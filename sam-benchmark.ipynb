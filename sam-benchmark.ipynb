{
 "cells": [
  {
   "cell_type": "code",
   "execution_count": 1,
   "id": "e07b2da8",
   "metadata": {},
   "outputs": [],
   "source": [
    "from segment_anything import sam_model_registry, SamPredictor\n",
    "import urllib\n",
    "import matplotlib.pyplot as plt\n",
    "import torch\n",
    "import numpy as np\n",
    "import time\n",
    "import cv2\n",
    "import glob\n",
    "\n",
    "from tqdm import tqdm\n",
    "from functools import partial\n",
    "tqdm = partial(tqdm, position=0, leave=True)"
   ]
  },
  {
   "cell_type": "code",
   "execution_count": 2,
   "id": "be478091",
   "metadata": {},
   "outputs": [],
   "source": [
    "def setup_segment_anything_model(model_type=\"vit_b\", device=\"cuda\"):\n",
    "    # get model checkpoint\n",
    "    checkpoint_mapping = {\n",
    "        \"vit_h\": \"sam_vit_h_4b8939.pth\",\n",
    "        \"vit_l\": \"sam_vit_l_0b3195.pth\",\n",
    "        \"vit_b\": \"sam_vit_b_01ec64.pth\"\n",
    "    }\n",
    "    sam_checkpoint = checkpoint_mapping.get(model_type)\n",
    "    if sam_checkpoint is None:\n",
    "        raise ValueError(f\"Invalid model_type: {model_type}\")\n",
    "    checkpoint_url = f\"https://dl.fbaipublicfiles.com/segment_anything/{sam_checkpoint}\"\n",
    "    urllib.request.urlretrieve(checkpoint_url, sam_checkpoint)\n",
    "    # initiate the model\n",
    "    sam = sam_model_registry[model_type](checkpoint=sam_checkpoint)\n",
    "    sam.to(device=device)\n",
    "    return sam\n",
    "# set up SAM\n",
    "sam = setup_segment_anything_model(model_type=\"vit_b\", device=\"cuda\")\n",
    "# set default parameters for the mask predictor\n",
    "predictor = SamPredictor(sam)"
   ]
  },
  {
   "cell_type": "code",
   "execution_count": 51,
   "id": "3a9854b5",
   "metadata": {},
   "outputs": [],
   "source": [
    "def predict_masks(predictor, img, bounding_boxes = None, input_points = None, input_labels = None):\n",
    "    with torch.no_grad():\n",
    "        # Make image embedding\n",
    "        predictor.set_image(img)\n",
    "\n",
    "        # Feed bounding boxes (and center points) to mask predictor\n",
    "\n",
    "        if input_points is not None:\n",
    "            input_points_tensor = torch.tensor(input_points, device=predictor.device)\n",
    "            input_labels_tensor = torch.tensor(input_labels, device=predictor.device)\n",
    "            transformed_points = predictor.transform.apply_coords_torch(input_points_tensor, img.shape[:2])\n",
    "        else:\n",
    "            transformed_points = None\n",
    "\n",
    "        if bounding_boxes is not None:\n",
    "            input_boxes = torch.tensor(bounding_boxes, device=predictor.device)\n",
    "            transformed_boxes = predictor.transform.apply_boxes_torch(input_boxes, img.shape[:2])\n",
    "        else:\n",
    "            transformed_boxes = None\n",
    "        masks, _, _ = predictor.predict_torch(\n",
    "            point_coords=transformed_points,\n",
    "            point_labels=input_labels_tensor,\n",
    "            # point_coords=None,\n",
    "            # point_labels=None,\n",
    "            boxes=transformed_boxes,\n",
    "            multimask_output=False,\n",
    "        )\n",
    "    return masks"
   ]
  },
  {
   "cell_type": "code",
   "execution_count": 52,
   "id": "7d8335d0",
   "metadata": {},
   "outputs": [
    {
     "name": "stderr",
     "output_type": "stream",
     "text": [
      "100%|██████████| 100/100 [00:09<00:00, 10.56it/s]\n"
     ]
    },
    {
     "name": "stdout",
     "output_type": "stream",
     "text": [
      "Average inference time for 100 inferences on tableside_image_1.png: 0.0943 seconds\n"
     ]
    },
    {
     "name": "stderr",
     "output_type": "stream",
     "text": [
      "100%|██████████| 100/100 [00:09<00:00, 10.48it/s]\n"
     ]
    },
    {
     "name": "stdout",
     "output_type": "stream",
     "text": [
      "Average inference time for 100 inferences on precut_image_1.png: 0.0950 seconds\n"
     ]
    },
    {
     "name": "stderr",
     "output_type": "stream",
     "text": [
      "100%|██████████| 100/100 [00:09<00:00, 10.49it/s]"
     ]
    },
    {
     "name": "stdout",
     "output_type": "stream",
     "text": [
      "Average inference time for 100 inferences on assembly_image_0.png: 0.0950 seconds\n",
      "Average inference time for all 300 inferences: 0.0947 seconds\n"
     ]
    },
    {
     "name": "stderr",
     "output_type": "stream",
     "text": [
      "\n"
     ]
    }
   ],
   "source": [
    "num_inferences = 100\n",
    "filenames = glob.glob(\"*.png\")\n",
    "\n",
    "grand_total_time = 0\n",
    "for image_path in filenames:\n",
    "    image = cv2.imread(image_path)\n",
    "    image = cv2.cvtColor(image, cv2.COLOR_BGR2RGB)\n",
    "\n",
    "    total_time = 0\n",
    "    for i in tqdm(range(num_inferences)):\n",
    "        x_coord = np.random.randint(image.shape[0])\n",
    "        y_coord = np.random.randint(image.shape[1])\n",
    "\n",
    "        start_time = time.time()\n",
    "        predicted_masks = predict_masks(predictor, image, input_points = [[[x_coord, y_coord]]], input_labels = [[1]])    \n",
    "        end_time = time.time()\n",
    "\n",
    "        total_time += (end_time - start_time)\n",
    "\n",
    "    average_inference_time = total_time / num_inferences\n",
    "    grand_total_time += total_time\n",
    "\n",
    "    print(f\"Average inference time for {num_inferences} inferences on {image_path}: {average_inference_time:.4f} seconds\")\n",
    "\n",
    "print(f\"Average inference time for all {num_inferences*len(filenames)} inferences: {grand_total_time/(num_inferences*len(filenames)):.4f} seconds\")\n",
    "    "
   ]
  },
  {
   "cell_type": "code",
   "execution_count": 53,
   "id": "2831ef7f",
   "metadata": {},
   "outputs": [
    {
     "data": {
      "text/plain": [
       "<matplotlib.image.AxesImage at 0x7f73002f7450>"
      ]
     },
     "execution_count": 53,
     "metadata": {},
     "output_type": "execute_result"
    },
    {
     "data": {
      "image/png": "[encoded data removed]",
      "text/plain": [
       "<Figure size 640x480 with 1 Axes>"
      ]
     },
     "metadata": {},
     "output_type": "display_data"
    }
   ],
   "source": [
    "plt.imshow(predicted_masks.cpu().detach().numpy().squeeze())"
   ]
  },
  {
   "cell_type": "code",
   "execution_count": null,
   "id": "d1c32c40",
   "metadata": {},
   "outputs": [],
   "source": []
  }
 ],
 "metadata": {
  "kernelspec": {
   "display_name": "sam",
   "language": "python",
   "name": "sam"
  },
  "language_info": {
   "codemirror_mode": {
    "name": "ipython",
    "version": 3
   },
   "file_extension": ".py",
   "mimetype": "text/x-python",
   "name": "python",
   "nbconvert_exporter": "python",
   "pygments_lexer": "ipython3",
   "version": "3.11.4"
  }
 },
 "nbformat": 4,
 "nbformat_minor": 5
}
